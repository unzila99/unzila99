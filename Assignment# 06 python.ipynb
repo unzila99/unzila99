{
 "cells": [
  {
   "cell_type": "markdown",
   "metadata": {},
   "source": [
    "Question 1:\n",
    "\n",
    "Define Object Oriented Programming Language?\n",
    "\n",
    "Python is a multi-paradigm programming language. Meaning, it supports different programming approach. One of the popular approach to solve a programming problem is by creating objects. This is known as Object-Oriented Programming (OOP).\n",
    "Example: Parrot is an object, • name, age, color are attributes • singing, dancing are behavior The concept of OOP in Python focuses on creating reusable code. This concept is also known as DRY (Don't Repeat Yourself)."
   ]
  },
  {
   "cell_type": "markdown",
   "metadata": {},
   "source": [
    "Question 2:\n",
    "\n",
    "List down the Benefits of OOP?\n",
    "\n",
    "The advantages of OOP are mentioned below:\n",
    "\n",
    "•\tOOP provides a clear modular structure for programs.\n",
    "\n",
    "•\tIt is good for defining abstract data types.\n",
    "\n",
    "•\tImplementation details are hidden from other modules and other modules has a clearly defined interface.\n",
    "\n",
    "•\tIt is easy to maintain and modify existing code as new objects can be created with small differences to existing ones.\n",
    "\n",
    "•\tobjects, methods, instance, message passing, inheritance are some important properties provided by these particular languages\n",
    "\n",
    "•\tEncapsulation, polymorphism, abstraction are also counts in these fundamentals of programming language.\n",
    "\n",
    "•\tIt implements real life scenario.\n",
    "\n",
    "•\tIn OOP, programmer not only defines data types but also deals with operations applied for data structures."
   ]
  },
  {
   "cell_type": "markdown",
   "metadata": {},
   "source": [
    "Question 3:\n",
    "\n",
    "Differentiate between function and method?\n",
    "\n",
    "Method\n",
    "1.\tMethod is called by its name, but it is associated to an object (dependent).\n",
    "2.\tA method is implicitly passed the object on which it is invoked.\n",
    "3.\tIt may or may not return any data.\n",
    "4.\tA method can operate on the data (instance variables) that is contained by the corresponding class.\n",
    "\n",
    "Function\n",
    "\n",
    "1.\tFunction is block of code that is also called by its name. (independent)\n",
    "2.\tThe function can have different parameters or may not have any at all. If any data (parameters) are passed, they are passed explicitly.\n",
    "3.\tIt may or may not return any data.\n",
    "4.\tFunction does not deal with Class and its instance concept.\n",
    "\n"
   ]
  },
  {
   "cell_type": "markdown",
   "metadata": {},
   "source": [
    "Question 4:\n",
    "\n",
    "Define the following terms:\n",
    "\n",
    "1. Class\n",
    "2. Object\n",
    "3. Attribute\n",
    "4. Behavior\n",
    "\n",
    "\n",
    "1. Class\n",
    "\n",
    "The class can be defined as a collection of objects. It is a logical entity that has some specific attributes and methods. \n",
    "For example: if you have an employee class then it should contain an attribute and method, i.e. an email id, name, age, salary, etc.\n",
    "\n",
    "2. Object\n",
    "\n",
    "The object is an entity that has state and behavior. It may be any real-world object like the mouse, keyboard, chair, table, pen, etc.\n",
    "\n",
    "Everything in Python is an object, and almost everything has attributes and methods. All functions have a built-in attribute __doc__, which returns the doc string defined in the function source code.\n",
    "\n",
    "3. Attribute\n",
    "\n",
    "All classes create objects, and all objects contain characteristics called attributes (referred to as properties in the opening paragraph). \n",
    "\n",
    "4. Behavior\n",
    "\n",
    "While the class is the blueprint, an instance is a copy of the class with actual values, literally an object belonging to a specific class. It’s not an idea anymore; it’s an actual animal, like a dog named Roger who’s eight years old.\n"
   ]
  },
  {
   "cell_type": "code",
   "execution_count": 1,
   "metadata": {},
   "outputs": [
    {
     "name": "stdout",
     "output_type": "stream",
     "text": [
      "7\n",
      "red\n",
      "12\n",
      "black\n",
      "14\n",
      "6\n",
      "8\n"
     ]
    }
   ],
   "source": [
    "class Car(object):\n",
    "    def __init__(self, model, passengers, color, speed):\n",
    "        self.model = model\n",
    "        self.passengers = passengers\n",
    "        self.color = color\n",
    "        self.speed = speed \n",
    "\n",
    "    def accelerate(self):\n",
    "        self.speed = self.speed + 2\n",
    "        print (self.speed)\n",
    "\n",
    "bmw = Car(\"BMW\", 4, \"red\", 5)\n",
    "ferrari = Car(\"Ferrari\", 2, \"black\", 10)\n",
    "ford = Car(\"Ford\", 6, \"blue\", 6)\n",
    "\n",
    "bmw.accelerate()\n",
    "print (bmw.color)\n",
    "\n",
    "ferrari.accelerate()\n",
    "print (ferrari.color)\n",
    "ferrari.accelerate() #note that the speed has been updated from the previous accelerate call\n",
    "\n",
    "print (ford.passengers)\n",
    "ford.accelerate()"
   ]
  },
  {
   "cell_type": "code",
   "execution_count": null,
   "metadata": {},
   "outputs": [],
   "source": []
  }
 ],
 "metadata": {
  "kernelspec": {
   "display_name": "Python 3",
   "language": "python",
   "name": "python3"
  },
  "language_info": {
   "codemirror_mode": {
    "name": "ipython",
    "version": 3
   },
   "file_extension": ".py",
   "mimetype": "text/x-python",
   "name": "python",
   "nbconvert_exporter": "python",
   "pygments_lexer": "ipython3",
   "version": "3.7.4"
  }
 },
 "nbformat": 4,
 "nbformat_minor": 2
}
